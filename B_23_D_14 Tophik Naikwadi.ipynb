{
 "cells": [
  {
   "cell_type": "code",
   "execution_count": 1,
   "metadata": {},
   "outputs": [],
   "source": [
    "# intro to constructors:\n",
    "\n",
    "# syntax to declare a constructor\n",
    "\n",
    "def __init__\n",
    "\n",
    "it is a iniialization method"
   ]
  },
  {
   "cell_type": "code",
   "execution_count": null,
   "metadata": {},
   "outputs": [],
   "source": [
    "req:\n",
    "    create a dog class, give name and age as params of the dog.\n",
    "    \n",
    "    create the methods for the dog, 7 methods\n",
    "    \n",
    "    details\n",
    "    \n",
    "    sit\n",
    "    \n",
    "    roll_over\n",
    "    \n",
    "    run\n",
    "    \n",
    "    jump\n",
    "    \n",
    "    sleep\n",
    "    \n",
    "    wag_tail"
   ]
  },
  {
   "cell_type": "code",
   "execution_count": 3,
   "metadata": {},
   "outputs": [],
   "source": [
    "class dog:\n",
    "    \"\"\"Creating a dog class and describing the actions of the dog\"\"\"\n",
    "    \n",
    "    def __init__(self,name,age):\n",
    "        self.name=name\n",
    "        self.age=age\n",
    "        print('This has executed correctlly and ready to go for next')\n",
    "    \n",
    "    def details(self):\n",
    "        print(f\"\\nHello,\\nI am {self.name.title()},\\nI am {self.age} year's old,\\nI will follow your commands.\")\n",
    "    \n",
    "    def sit(self):\n",
    "        print(f\"{self.name.title()} is now sitting on the command.\")\n",
    "    \n",
    "    def roll_over(self):\n",
    "        print(f\"{self.name.title()} is now rolling over on the command.\")\n",
    "    \n",
    "    def run(self):\n",
    "        print(f\"{self.name.title()} is now running on the command.\")\n",
    "    \n",
    "    def jump(self):\n",
    "        print(f\"{self.name.title()} is now jumping on the command.\")\n",
    "    \n",
    "    def sleep(self):\n",
    "        print(f\"{self.name.upper()} is now sleeping on the command.\")\n",
    "    \n",
    "    def wag_tail(self):\n",
    "        print(f\"{self.name.title()} is now wagging the tail on the command.\")"
   ]
  },
  {
   "cell_type": "code",
   "execution_count": 4,
   "metadata": {},
   "outputs": [
    {
     "name": "stdout",
     "output_type": "stream",
     "text": [
      "This has executed correctlly and ready to go for next\n"
     ]
    }
   ],
   "source": [
    "check = dog('rocky',2.5)      #  in constructor mode we can give inputs while assigning an object itself, reduces efforts."
   ]
  },
  {
   "cell_type": "code",
   "execution_count": 5,
   "metadata": {},
   "outputs": [
    {
     "name": "stdout",
     "output_type": "stream",
     "text": [
      "Rocky is now sitting on the command.\n"
     ]
    }
   ],
   "source": [
    "check.sit()"
   ]
  },
  {
   "cell_type": "code",
   "execution_count": 6,
   "metadata": {},
   "outputs": [
    {
     "name": "stdout",
     "output_type": "stream",
     "text": [
      "Rocky is now running on the command.\n"
     ]
    }
   ],
   "source": [
    "check.run()"
   ]
  },
  {
   "cell_type": "code",
   "execution_count": 7,
   "metadata": {},
   "outputs": [
    {
     "name": "stdout",
     "output_type": "stream",
     "text": [
      "Rocky is now jumping on the command.\n"
     ]
    }
   ],
   "source": [
    "check.jump()"
   ]
  },
  {
   "cell_type": "code",
   "execution_count": 8,
   "metadata": {},
   "outputs": [
    {
     "name": "stdout",
     "output_type": "stream",
     "text": [
      "\n",
      "Hello,\n",
      "I am Rocky,\n",
      "I am 2.5 year's old,\n",
      "I will follow your commands.\n"
     ]
    }
   ],
   "source": [
    "check.details()"
   ]
  },
  {
   "cell_type": "code",
   "execution_count": 9,
   "metadata": {},
   "outputs": [
    {
     "name": "stdout",
     "output_type": "stream",
     "text": [
      "Rocky is now rolling over on the command.\n"
     ]
    }
   ],
   "source": [
    "check.roll_over()"
   ]
  },
  {
   "cell_type": "code",
   "execution_count": 10,
   "metadata": {},
   "outputs": [
    {
     "name": "stdout",
     "output_type": "stream",
     "text": [
      "Rocky is now wagging the tail on the command.\n"
     ]
    }
   ],
   "source": [
    "check.wag_tail()"
   ]
  },
  {
   "cell_type": "code",
   "execution_count": 11,
   "metadata": {},
   "outputs": [
    {
     "name": "stdout",
     "output_type": "stream",
     "text": [
      "ROCKY is now sleeping on the command.\n"
     ]
    }
   ],
   "source": [
    "check.sleep()"
   ]
  }
 ],
 "metadata": {
  "kernelspec": {
   "display_name": "Python 3",
   "language": "python",
   "name": "python3"
  },
  "language_info": {
   "codemirror_mode": {
    "name": "ipython",
    "version": 3
   },
   "file_extension": ".py",
   "mimetype": "text/x-python",
   "name": "python",
   "nbconvert_exporter": "python",
   "pygments_lexer": "ipython3",
   "version": "3.7.6"
  }
 },
 "nbformat": 4,
 "nbformat_minor": 4
}
