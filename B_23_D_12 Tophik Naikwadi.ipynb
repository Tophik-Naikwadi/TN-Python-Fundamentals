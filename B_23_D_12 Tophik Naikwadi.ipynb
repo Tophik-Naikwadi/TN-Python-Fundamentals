{
 "cells": [
  {
   "cell_type": "code",
   "execution_count": 1,
   "metadata": {},
   "outputs": [],
   "source": [
    "# Continuation of python functions:"
   ]
  },
  {
   "cell_type": "code",
   "execution_count": 2,
   "metadata": {},
   "outputs": [],
   "source": [
    "def mypet(type,name):\n",
    "    \"\"\"Defining pet function\"\"\"\n",
    "    print(f\"Hello,\\nI have a pet {type}.\\nMy {type}'s name is {name.title()}\")"
   ]
  },
  {
   "cell_type": "code",
   "execution_count": 3,
   "metadata": {},
   "outputs": [
    {
     "name": "stdout",
     "output_type": "stream",
     "text": [
      "Hello,\n",
      "I have a pet Cat.\n",
      "My Cat's name is Champa\n"
     ]
    }
   ],
   "source": [
    "mypet('Cat','Champa')"
   ]
  },
  {
   "cell_type": "code",
   "execution_count": 4,
   "metadata": {},
   "outputs": [],
   "source": [
    "def mybike(company_name,model):\n",
    "    \"\"\"creating my vehicle description function\"\"\"\n",
    "    print(f\"Hello,\\nI have a {company_name}'s bike,\\nThe model is {model.title()}\")"
   ]
  },
  {
   "cell_type": "code",
   "execution_count": 5,
   "metadata": {},
   "outputs": [
    {
     "name": "stdout",
     "output_type": "stream",
     "text": [
      "Hello,\n",
      "I have a Royal enfield's bike,\n",
      "The model is Thunderbird\n"
     ]
    }
   ],
   "source": [
    "mybike('Royal enfield','Thunderbird')"
   ]
  },
  {
   "cell_type": "code",
   "execution_count": null,
   "metadata": {},
   "outputs": [],
   "source": [
    "# types of arguments\n",
    "\n",
    "#        4 types\n",
    "\n",
    "#    1. Positional argument\n",
    "#    2. Key Value argment\n",
    "#    3. default argument\n",
    "#    4. arbitrary argument   "
   ]
  },
  {
   "cell_type": "code",
   "execution_count": 6,
   "metadata": {},
   "outputs": [],
   "source": [
    "def describe_pet(pet_type,pet_name):\n",
    "    \"\"\"Describe_pet function created to explain positional argument\"\"\"\n",
    "    print(f\"Hello,\\nI have a pet {pet_type},\\nMy {pet_type}'s name is {pet_name.title()}\")"
   ]
  },
  {
   "cell_type": "code",
   "execution_count": 7,
   "metadata": {},
   "outputs": [
    {
     "name": "stdout",
     "output_type": "stream",
     "text": [
      "Hello,\n",
      "I have a pet bird,\n",
      "My bird's name is Mitthu\n"
     ]
    }
   ],
   "source": [
    "describe_pet('bird','Mitthu')"
   ]
  },
  {
   "cell_type": "code",
   "execution_count": null,
   "metadata": {},
   "outputs": [],
   "source": [
    "# here params i.e. pet_type and pet_name have fixed positions and the input given against it, will also be fixed\n",
    "\n",
    "# Example, here sequence of input params is interchanged and .......The actual input should be('horse','chetak')"
   ]
  },
  {
   "cell_type": "code",
   "execution_count": 8,
   "metadata": {},
   "outputs": [
    {
     "name": "stdout",
     "output_type": "stream",
     "text": [
      "Hello,\n",
      "I have a pet chetak,\n",
      "My chetak's name is Horse\n"
     ]
    }
   ],
   "source": [
    "describe_pet('chetak','horse')  #  Here by default the functions will be of positinal argument type."
   ]
  },
  {
   "cell_type": "code",
   "execution_count": 9,
   "metadata": {},
   "outputs": [],
   "source": [
    "# Keyword argument======> Here every param is treated as a keyword  and input is given against it. \n",
    "\n",
    "# Example"
   ]
  },
  {
   "cell_type": "code",
   "execution_count": 10,
   "metadata": {},
   "outputs": [
    {
     "name": "stdout",
     "output_type": "stream",
     "text": [
      "Hello,\n",
      "I have a pet horse,\n",
      "My horse's name is Chetak\n"
     ]
    }
   ],
   "source": [
    "describe_pet(pet_name='chetak',pet_type='horse')"
   ]
  },
  {
   "cell_type": "code",
   "execution_count": 11,
   "metadata": {},
   "outputs": [],
   "source": [
    "#      Here keyword type of argument helps in fixing input data without any mistake of interchanging it with other param\n",
    "#      even if we interchange their positions."
   ]
  },
  {
   "cell_type": "code",
   "execution_count": 12,
   "metadata": {},
   "outputs": [],
   "source": [
    "# Question: what if only one input data is available and other is not given or missing ?\n",
    "# Example"
   ]
  },
  {
   "cell_type": "code",
   "execution_count": 13,
   "metadata": {},
   "outputs": [
    {
     "ename": "TypeError",
     "evalue": "describe_pet() missing 1 required positional argument: 'pet_name'",
     "output_type": "error",
     "traceback": [
      "\u001b[1;31m---------------------------------------------------------------------------\u001b[0m",
      "\u001b[1;31mTypeError\u001b[0m                                 Traceback (most recent call last)",
      "\u001b[1;32m<ipython-input-13-6f8646ee6e5b>\u001b[0m in \u001b[0;36m<module>\u001b[1;34m\u001b[0m\n\u001b[1;32m----> 1\u001b[1;33m \u001b[0mdescribe_pet\u001b[0m\u001b[1;33m(\u001b[0m\u001b[1;34m'Rocky'\u001b[0m\u001b[1;33m)\u001b[0m\u001b[1;33m\u001b[0m\u001b[1;33m\u001b[0m\u001b[0m\n\u001b[0m",
      "\u001b[1;31mTypeError\u001b[0m: describe_pet() missing 1 required positional argument: 'pet_name'"
     ]
    }
   ],
   "source": [
    "describe_pet('Rocky')"
   ]
  },
  {
   "cell_type": "code",
   "execution_count": 14,
   "metadata": {},
   "outputs": [],
   "source": [
    "# as only one input is given it gives error\n",
    "\n",
    "# in such case default argument is used "
   ]
  },
  {
   "cell_type": "code",
   "execution_count": 15,
   "metadata": {},
   "outputs": [],
   "source": [
    "def describe_pet(pet_name,pet_type='Cat'):  # while defining a default param, it is defined or declared at the end.\n",
    "    \"\"\"Describe_pet function created to explain default argument\"\"\"\n",
    "    print(f\"Hello,\\nI have a pet {pet_type},\\nMy {pet_type}'s name is {pet_name.title()}\")"
   ]
  },
  {
   "cell_type": "code",
   "execution_count": 17,
   "metadata": {},
   "outputs": [
    {
     "name": "stdout",
     "output_type": "stream",
     "text": [
      "Hello,\n",
      "I have a pet Cat,\n",
      "My Cat's name is Liz\n"
     ]
    }
   ],
   "source": [
    "describe_pet('Liz')    # Here only one param is given so it will make use of default param."
   ]
  },
  {
   "cell_type": "code",
   "execution_count": 18,
   "metadata": {},
   "outputs": [
    {
     "name": "stdout",
     "output_type": "stream",
     "text": [
      "Hello,\n",
      "I have a pet horse,\n",
      "My horse's name is Rambo\n"
     ]
    }
   ],
   "source": [
    "describe_pet('rambo','horse')  # Here both params are given so it will not use default param."
   ]
  },
  {
   "cell_type": "code",
   "execution_count": 19,
   "metadata": {},
   "outputs": [
    {
     "name": "stdout",
     "output_type": "stream",
     "text": [
      "Hello,\n",
      "I have a pet rambo,\n",
      "My rambo's name is Horse\n"
     ]
    }
   ],
   "source": [
    "describe_pet('horse','rambo')               #...... lolz........How about this faiyaz ??...interchanged params...."
   ]
  },
  {
   "cell_type": "code",
   "execution_count": 20,
   "metadata": {},
   "outputs": [],
   "source": [
    "# What if we define or declare the default param first or inbetween insted of last.\n",
    "\n",
    "# Lets try it"
   ]
  },
  {
   "cell_type": "code",
   "execution_count": 21,
   "metadata": {},
   "outputs": [
    {
     "ename": "SyntaxError",
     "evalue": "non-default argument follows default argument (<ipython-input-21-8251c31bd28f>, line 1)",
     "output_type": "error",
     "traceback": [
      "\u001b[1;36m  File \u001b[1;32m\"<ipython-input-21-8251c31bd28f>\"\u001b[1;36m, line \u001b[1;32m1\u001b[0m\n\u001b[1;33m    def describe_pet(pet_type='Cat',pet_name):  # here a default param is defined or declared first and then oher param is given.\u001b[0m\n\u001b[1;37m                    ^\u001b[0m\n\u001b[1;31mSyntaxError\u001b[0m\u001b[1;31m:\u001b[0m non-default argument follows default argument\n"
     ]
    }
   ],
   "source": [
    "def describe_pet(pet_type='Cat',pet_name):  # here a default param is defined or declared first and then oher param is given.\n",
    "    \"\"\"Describe_pet function created to explain default argument\"\"\"\n",
    "    print(f\"Hello,\\nI have a pet {pet_type},\\nMy {pet_type}'s name is {pet_name.title()}\")"
   ]
  },
  {
   "cell_type": "code",
   "execution_count": null,
   "metadata": {},
   "outputs": [],
   "source": [
    "# inside a fun one param accepts one input, if multiple are given it causes error\n",
    "\n",
    "# Example"
   ]
  },
  {
   "cell_type": "code",
   "execution_count": 25,
   "metadata": {},
   "outputs": [],
   "source": [
    "def pizza(topping):\n",
    "    \"\"\"dreating a fun to accept pizza order from customer\"\"\"\n",
    "    print(f\"Hello,\\nYou have orderred a pizza with {topping} topping on it.\")"
   ]
  },
  {
   "cell_type": "code",
   "execution_count": 26,
   "metadata": {},
   "outputs": [
    {
     "name": "stdout",
     "output_type": "stream",
     "text": [
      "Hello,\n",
      "You have orderred a pizza with onion topping on it.\n"
     ]
    }
   ],
   "source": [
    "pizza('onion')"
   ]
  },
  {
   "cell_type": "code",
   "execution_count": 27,
   "metadata": {},
   "outputs": [
    {
     "ename": "TypeError",
     "evalue": "pizza() takes 1 positional argument but 3 were given",
     "output_type": "error",
     "traceback": [
      "\u001b[1;31m---------------------------------------------------------------------------\u001b[0m",
      "\u001b[1;31mTypeError\u001b[0m                                 Traceback (most recent call last)",
      "\u001b[1;32m<ipython-input-27-f8c37ee42bfc>\u001b[0m in \u001b[0;36m<module>\u001b[1;34m\u001b[0m\n\u001b[1;32m----> 1\u001b[1;33m \u001b[0mpizza\u001b[0m\u001b[1;33m(\u001b[0m\u001b[1;34m'corn'\u001b[0m\u001b[1;33m,\u001b[0m\u001b[1;34m'cheez'\u001b[0m\u001b[1;33m,\u001b[0m\u001b[1;34m'cheez'\u001b[0m\u001b[1;33m)\u001b[0m\u001b[1;33m\u001b[0m\u001b[1;33m\u001b[0m\u001b[0m\n\u001b[0m",
      "\u001b[1;31mTypeError\u001b[0m: pizza() takes 1 positional argument but 3 were given"
     ]
    }
   ],
   "source": [
    "pizza('corn','cheez','cheez')"
   ]
  },
  {
   "cell_type": "code",
   "execution_count": 28,
   "metadata": {},
   "outputs": [],
   "source": [
    "# with multiple inputs the function call fails\n",
    "\n",
    "# solution just put a '*' mark befor param while declaring the function.\n",
    "\n",
    "#Example"
   ]
  },
  {
   "cell_type": "code",
   "execution_count": 29,
   "metadata": {},
   "outputs": [],
   "source": [
    "def pizza(*topping):                       # Here '*' is given before param which makes it to accept multiple inputs for single param.\n",
    "    \"\"\"dreating a fun to accept pizza order from customer for multiple toppings\"\"\"\n",
    "    print(f\"Hello,\\nYou have orderred a pizza with {topping} topping on it.\")"
   ]
  },
  {
   "cell_type": "code",
   "execution_count": 30,
   "metadata": {},
   "outputs": [
    {
     "name": "stdout",
     "output_type": "stream",
     "text": [
      "Hello,\n",
      "You have orderred a pizza with ('cheez', 'onion', 'corn') topping on it.\n"
     ]
    }
   ],
   "source": [
    "pizza('cheez','onion','corn')"
   ]
  },
  {
   "cell_type": "code",
   "execution_count": 31,
   "metadata": {},
   "outputs": [],
   "source": [
    "# such type o argument is called as arbitrary argument or speculative argument"
   ]
  },
  {
   "cell_type": "code",
   "execution_count": null,
   "metadata": {},
   "outputs": [],
   "source": []
  }
 ],
 "metadata": {
  "kernelspec": {
   "display_name": "Python 3",
   "language": "python",
   "name": "python3"
  },
  "language_info": {
   "codemirror_mode": {
    "name": "ipython",
    "version": 3
   },
   "file_extension": ".py",
   "mimetype": "text/x-python",
   "name": "python",
   "nbconvert_exporter": "python",
   "pygments_lexer": "ipython3",
   "version": "3.7.6"
  }
 },
 "nbformat": 4,
 "nbformat_minor": 4
}
