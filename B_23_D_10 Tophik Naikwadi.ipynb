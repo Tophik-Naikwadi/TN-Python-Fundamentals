{
 "cells": [
  {
   "cell_type": "code",
   "execution_count": null,
   "metadata": {},
   "outputs": [],
   "source": [
    "# Intro to while loops:\n",
    "\n",
    "# It will be validating a certain condition to implement"
   ]
  },
  {
   "cell_type": "code",
   "execution_count": 1,
   "metadata": {},
   "outputs": [
    {
     "name": "stdout",
     "output_type": "stream",
     "text": [
      "1\n",
      "2\n",
      "3\n",
      "4\n",
      "5\n",
      "6\n",
      "7\n"
     ]
    }
   ],
   "source": [
    "current_num=1\n",
    "while current_num <=7:        # validates the condition i.e. current_num<=7 if it holds true run the iteration again. \n",
    "    print(current_num)\n",
    "    current_num+=1            # current_num = current_num + 1 i.e. 2 for next iteration it will be 3 and then 4 and then 5 etc."
   ]
  },
  {
   "cell_type": "code",
   "execution_count": null,
   "metadata": {},
   "outputs": [],
   "source": [
    "# we can change the values inside the loops so as to get our desired output."
   ]
  },
  {
   "cell_type": "code",
   "execution_count": 2,
   "metadata": {},
   "outputs": [
    {
     "name": "stdout",
     "output_type": "stream",
     "text": [
      "1\n",
      "2\n",
      "3\n",
      "4\n",
      "5\n",
      "6\n",
      "7\n",
      "8\n",
      "9\n",
      "10\n",
      "11\n",
      "12\n",
      "13\n",
      "14\n",
      "15\n"
     ]
    }
   ],
   "source": [
    "current_num=1\n",
    "while current_num <=15:        # validates the condition i.e. current_num<=7 if it holds true run the iteration again. \n",
    "    print(current_num)\n",
    "    current_num+=1            # current_num = current_num + 1 i.e. 2 for next iteration it will be 3 and then 4 and then 5 etc."
   ]
  },
  {
   "cell_type": "code",
   "execution_count": 3,
   "metadata": {},
   "outputs": [
    {
     "name": "stdout",
     "output_type": "stream",
     "text": [
      "2\n",
      "4\n",
      "6\n",
      "8\n",
      "10\n",
      "12\n",
      "14\n",
      "16\n",
      "18\n",
      "20\n"
     ]
    }
   ],
   "source": [
    "current_num=2\n",
    "while current_num <=20:        # validates the condition i.e. current_num<=7 if it holds true run the iteration again. \n",
    "    print(current_num)\n",
    "    current_num+=2            # current_num = current_num + 1 i.e. 2 for next iteration it will be 3 and then 4 and then 5 etc."
   ]
  },
  {
   "cell_type": "code",
   "execution_count": 4,
   "metadata": {},
   "outputs": [],
   "source": [
    "# Letting the user o choose when to quit:"
   ]
  },
  {
   "cell_type": "code",
   "execution_count": 2,
   "metadata": {},
   "outputs": [],
   "source": [
    "prompt=\"\\nTell me something and I will repeat it for you: \"\n",
    "prompt+= \"\\nEnter 'quit' to end programm.\""
   ]
  },
  {
   "cell_type": "code",
   "execution_count": null,
   "metadata": {},
   "outputs": [
    {
     "name": "stdout",
     "output_type": "stream",
     "text": [
      "\n",
      "Tell me something and I will repeat it for you: \n",
      "Enter 'quit' to end programm.Hi\n",
      "Hi\n",
      "\n",
      "Tell me something and I will repeat it for you: \n",
      "Enter 'quit' to end programm.How are you\n",
      "How are you\n",
      "\n",
      "Tell me something and I will repeat it for you: \n",
      "Enter 'quit' to end programm.not good\n",
      "not good\n",
      "\n",
      "Tell me something and I will repeat it for you: \n",
      "Enter 'quit' to end programm.its OK\n",
      "its OK\n",
      "\n",
      "Tell me something and I will repeat it for you: \n",
      "Enter 'quit' to end programm.lets quit\n"
     ]
    }
   ],
   "source": [
    "message=\" \"\n",
    "while message != 'quit':\n",
    "    message= input(prompt)\n",
    "    print(message)"
   ]
  },
  {
   "cell_type": "code",
   "execution_count": null,
   "metadata": {},
   "outputs": [],
   "source": [
    "#  for loop and while loop "
   ]
  },
  {
   "cell_type": "code",
   "execution_count": null,
   "metadata": {},
   "outputs": [],
   "source": [
    "# for loop -------> is implemente for each and every element of the list"
   ]
  },
  {
   "cell_type": "code",
   "execution_count": null,
   "metadata": {},
   "outputs": [],
   "source": [
    "# while loop-------> is iterated till the condition holds true"
   ]
  },
  {
   "cell_type": "code",
   "execution_count": null,
   "metadata": {},
   "outputs": [],
   "source": [
    "# break and continue..... python functions......"
   ]
  },
  {
   "cell_type": "code",
   "execution_count": null,
   "metadata": {},
   "outputs": [],
   "source": []
  }
 ],
 "metadata": {
  "kernelspec": {
   "display_name": "Python 3",
   "language": "python",
   "name": "python3"
  },
  "language_info": {
   "codemirror_mode": {
    "name": "ipython",
    "version": 3
   },
   "file_extension": ".py",
   "mimetype": "text/x-python",
   "name": "python",
   "nbconvert_exporter": "python",
   "pygments_lexer": "ipython3",
   "version": "3.7.6"
  }
 },
 "nbformat": 4,
 "nbformat_minor": 4
}
