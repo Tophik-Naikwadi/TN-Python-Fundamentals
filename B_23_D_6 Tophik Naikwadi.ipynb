{
 "cells": [
  {
   "cell_type": "code",
   "execution_count": null,
   "metadata": {},
   "outputs": [],
   "source": [
    "# Organising the list in aphabeical order\n",
    "\n",
    "# Temporary way              # syntax   print(sorted(main_var))\n",
    "\n",
    "# permanent way              # syntax   main_var.sort()"
   ]
  },
  {
   "cell_type": "code",
   "execution_count": 3,
   "metadata": {},
   "outputs": [],
   "source": [
    "boys = ['rhidaan','aariz','rehan','aarish','ujair','tophik','iqbal','ajiz','ashraf','munna','nasir']"
   ]
  },
  {
   "cell_type": "code",
   "execution_count": 4,
   "metadata": {},
   "outputs": [
    {
     "name": "stdout",
     "output_type": "stream",
     "text": [
      "['aarish', 'aariz', 'ajiz', 'ashraf', 'iqbal', 'munna', 'nasir', 'rehan', 'rhidaan', 'tophik', 'ujair']\n"
     ]
    }
   ],
   "source": [
    "print(sorted(boys))        #  Temporary way  sorting"
   ]
  },
  {
   "cell_type": "code",
   "execution_count": 5,
   "metadata": {},
   "outputs": [],
   "source": [
    "# retrival of original list"
   ]
  },
  {
   "cell_type": "code",
   "execution_count": 6,
   "metadata": {},
   "outputs": [
    {
     "name": "stdout",
     "output_type": "stream",
     "text": [
      "['rhidaan', 'aariz', 'rehan', 'aarish', 'ujair', 'tophik', 'iqbal', 'ajiz', 'ashraf', 'munna', 'nasir']\n"
     ]
    }
   ],
   "source": [
    "print(boys)"
   ]
  },
  {
   "cell_type": "code",
   "execution_count": 7,
   "metadata": {},
   "outputs": [],
   "source": [
    " #   Permanent sort"
   ]
  },
  {
   "cell_type": "code",
   "execution_count": 8,
   "metadata": {},
   "outputs": [],
   "source": [
    "boys.sort()"
   ]
  },
  {
   "cell_type": "code",
   "execution_count": 9,
   "metadata": {},
   "outputs": [
    {
     "name": "stdout",
     "output_type": "stream",
     "text": [
      "['aarish', 'aariz', 'ajiz', 'ashraf', 'iqbal', 'munna', 'nasir', 'rehan', 'rhidaan', 'tophik', 'ujair']\n"
     ]
    }
   ],
   "source": [
    "print(boys)"
   ]
  },
  {
   "cell_type": "code",
   "execution_count": 10,
   "metadata": {},
   "outputs": [],
   "source": [
    "#  Now original cannot be tetrived at any cost"
   ]
  },
  {
   "cell_type": "code",
   "execution_count": 11,
   "metadata": {},
   "outputs": [
    {
     "name": "stdout",
     "output_type": "stream",
     "text": [
      "['aarish', 'aariz', 'ajiz', 'ashraf', 'iqbal', 'munna', 'nasir', 'rehan', 'rhidaan', 'tophik', 'ujair']\n"
     ]
    }
   ],
   "source": [
    "print(boys)"
   ]
  },
  {
   "cell_type": "code",
   "execution_count": 12,
   "metadata": {},
   "outputs": [
    {
     "data": {
      "text/plain": [
       "11"
      ]
     },
     "execution_count": 12,
     "metadata": {},
     "output_type": "execute_result"
    }
   ],
   "source": [
    "#  To know the total number of the elements of the list\n",
    "\n",
    "# len   method\n",
    "\n",
    "len(boys)"
   ]
  },
  {
   "cell_type": "code",
   "execution_count": 13,
   "metadata": {},
   "outputs": [],
   "source": [
    "# Introduction to if else condition:"
   ]
  },
  {
   "cell_type": "code",
   "execution_count": 14,
   "metadata": {},
   "outputs": [],
   "source": [
    "# Req:  I want munna in all caps and others in title case."
   ]
  },
  {
   "cell_type": "code",
   "execution_count": 16,
   "metadata": {},
   "outputs": [
    {
     "name": "stdout",
     "output_type": "stream",
     "text": [
      "Aarish\n",
      "Aariz\n",
      "Ajiz\n",
      "Ashraf\n",
      "Iqbal\n",
      "MUNNA\n",
      "Nasir\n",
      "Rehan\n",
      "Rhidaan\n",
      "Tophik\n",
      "Ujair\n"
     ]
    }
   ],
   "source": [
    "for x in boys:\n",
    "    if x == 'munna':                              # this compares all elements with munna and if it is munna then it follows\n",
    "        print(x.upper())                         #   the first command otherwise the it follows second command.     \n",
    "    else:\n",
    "        print(x.title())"
   ]
  },
  {
   "cell_type": "code",
   "execution_count": null,
   "metadata": {},
   "outputs": [],
   "source": []
  },
  {
   "cell_type": "code",
   "execution_count": 17,
   "metadata": {},
   "outputs": [],
   "source": [
    "# Introduction to slicing of lists:"
   ]
  },
  {
   "cell_type": "code",
   "execution_count": 19,
   "metadata": {},
   "outputs": [
    {
     "name": "stdout",
     "output_type": "stream",
     "text": [
      "['aarish', 'aariz', 'ajiz', 'ashraf', 'iqbal', 'munna', 'nasir', 'rehan', 'rhidaan', 'tophik', 'ujair']\n"
     ]
    }
   ],
   "source": [
    "print(boys)"
   ]
  },
  {
   "cell_type": "code",
   "execution_count": 20,
   "metadata": {},
   "outputs": [],
   "source": [
    " # Slice the list to make groups of two boys each.   "
   ]
  },
  {
   "cell_type": "code",
   "execution_count": null,
   "metadata": {},
   "outputs": [],
   "source": [
    "# General syntax of slicing\n",
    "\n",
    "# print(Main_var[startvalue:stopvalue:stepcount])"
   ]
  },
  {
   "cell_type": "code",
   "execution_count": 21,
   "metadata": {},
   "outputs": [
    {
     "name": "stdout",
     "output_type": "stream",
     "text": [
      "['aarish']\n"
     ]
    }
   ],
   "source": [
    "print(boys[0:1])"
   ]
  },
  {
   "cell_type": "code",
   "execution_count": 22,
   "metadata": {},
   "outputs": [
    {
     "name": "stdout",
     "output_type": "stream",
     "text": [
      "['aarish', 'aariz']\n"
     ]
    }
   ],
   "source": [
    "print(boys[0:2])  # here in this slicing method stopvalue is exclusive, it is excluded from the list"
   ]
  },
  {
   "cell_type": "code",
   "execution_count": 23,
   "metadata": {},
   "outputs": [
    {
     "name": "stdout",
     "output_type": "stream",
     "text": [
      "['aarish', 'aariz', 'ajiz']\n"
     ]
    }
   ],
   "source": [
    "print(boys[0:3])  # stopvalue is 3; # list will end up on (3-1=2) second indexed element i.e. ajiz"
   ]
  },
  {
   "cell_type": "code",
   "execution_count": 24,
   "metadata": {},
   "outputs": [
    {
     "name": "stdout",
     "output_type": "stream",
     "text": [
      "['iqbal', 'munna', 'nasir', 'rehan']\n"
     ]
    }
   ],
   "source": [
    "print(boys[4:8])  # stopvalue is 8; # list will end up on (8-1=7) seventh indexed element i.e. rehan"
   ]
  },
  {
   "cell_type": "code",
   "execution_count": 25,
   "metadata": {},
   "outputs": [],
   "source": [
    "#  In slicing method :\n",
    "\n",
    "# start value is inclusive  which means that index numbered element will be included in the output list\n",
    "\n",
    "# # stopvalue is exclusive  which means that index numbered element will not be included in the output list,\n",
    "\n",
    "# # # the output list will end up on (stopvalue-1) index numbered element."
   ]
  },
  {
   "cell_type": "code",
   "execution_count": 26,
   "metadata": {},
   "outputs": [
    {
     "name": "stdout",
     "output_type": "stream",
     "text": [
      "['aarish', 'aariz', 'ajiz', 'ashraf', 'iqbal', 'munna', 'nasir', 'rehan', 'rhidaan', 'tophik', 'ujair']\n"
     ]
    }
   ],
   "source": [
    "print(boys)"
   ]
  },
  {
   "cell_type": "code",
   "execution_count": 27,
   "metadata": {},
   "outputs": [
    {
     "name": "stdout",
     "output_type": "stream",
     "text": [
      "['aarish', 'ajiz', 'iqbal', 'nasir', 'rhidaan', 'ujair']\n"
     ]
    }
   ],
   "source": [
    "print(boys[0:12:2])   #  slices out every alternate boy from the list from begining to end of list."
   ]
  },
  {
   "cell_type": "code",
   "execution_count": 28,
   "metadata": {},
   "outputs": [
    {
     "name": "stdout",
     "output_type": "stream",
     "text": [
      "['aarish', 'aariz', 'ajiz', 'ashraf', 'iqbal', 'munna', 'nasir', 'rehan', 'rhidaan', 'tophik', 'ujair']\n"
     ]
    }
   ],
   "source": [
    "print(boys[0:12:1])"
   ]
  },
  {
   "cell_type": "code",
   "execution_count": 29,
   "metadata": {},
   "outputs": [
    {
     "name": "stdout",
     "output_type": "stream",
     "text": [
      "['aariz', 'ashraf', 'munna', 'rehan', 'tophik']\n"
     ]
    }
   ],
   "source": [
    "print(boys[1:12:2])"
   ]
  },
  {
   "cell_type": "code",
   "execution_count": 30,
   "metadata": {},
   "outputs": [
    {
     "name": "stdout",
     "output_type": "stream",
     "text": [
      "['aarish', 'ashraf', 'nasir', 'tophik']\n"
     ]
    }
   ],
   "source": [
    "print(boys[0:12:3])"
   ]
  },
  {
   "cell_type": "code",
   "execution_count": null,
   "metadata": {},
   "outputs": [],
   "source": []
  },
  {
   "cell_type": "code",
   "execution_count": null,
   "metadata": {},
   "outputs": [],
   "source": [
    "# Introduction to negative indexing:\n",
    "\n",
    "# positive indexing starts from left hand side of the list with numbers as 0,1,2,3,4,5,6..... etc.\n",
    "\n",
    "# negative numbering starts from right hand side of the list with numbers as  -1,-2,-3,-4,-5,-6 ....... etc."
   ]
  },
  {
   "cell_type": "code",
   "execution_count": null,
   "metadata": {},
   "outputs": [],
   "source": [
    "# Example"
   ]
  },
  {
   "cell_type": "code",
   "execution_count": 31,
   "metadata": {},
   "outputs": [
    {
     "name": "stdout",
     "output_type": "stream",
     "text": [
      "ujair\n"
     ]
    }
   ],
   "source": [
    "print(boys[-1])"
   ]
  },
  {
   "cell_type": "code",
   "execution_count": 32,
   "metadata": {},
   "outputs": [
    {
     "name": "stdout",
     "output_type": "stream",
     "text": [
      "[]\n"
     ]
    }
   ],
   "source": [
    "print(boys[-1:-5])"
   ]
  },
  {
   "cell_type": "code",
   "execution_count": 33,
   "metadata": {},
   "outputs": [
    {
     "name": "stdout",
     "output_type": "stream",
     "text": [
      "[]\n"
     ]
    }
   ],
   "source": [
    "print(boys[-1:-9:2])"
   ]
  },
  {
   "cell_type": "code",
   "execution_count": 34,
   "metadata": {},
   "outputs": [
    {
     "name": "stdout",
     "output_type": "stream",
     "text": [
      "['ujair', 'tophik', 'rhidaan', 'rehan', 'nasir', 'munna', 'iqbal', 'ashraf', 'ajiz', 'aariz', 'aarish']\n"
     ]
    }
   ],
   "source": [
    "# To obtain the list in reverse order\n",
    "\n",
    "print(boys[::-1])"
   ]
  },
  {
   "cell_type": "code",
   "execution_count": 35,
   "metadata": {},
   "outputs": [],
   "source": [
    "#  Here in the syntax [::-1] means as: startvalue_blank means whatever small value index no available\n",
    "#                                      and stopvalueblank means whatever highest value index no available\n",
    "#                                      and stepcount_ -1   means the reverse order of indexing and count"
   ]
  }
 ],
 "metadata": {
  "kernelspec": {
   "display_name": "Python 3",
   "language": "python",
   "name": "python3"
  },
  "language_info": {
   "codemirror_mode": {
    "name": "ipython",
    "version": 3
   },
   "file_extension": ".py",
   "mimetype": "text/x-python",
   "name": "python",
   "nbconvert_exporter": "python",
   "pygments_lexer": "ipython3",
   "version": "3.7.6"
  }
 },
 "nbformat": 4,
 "nbformat_minor": 4
}
