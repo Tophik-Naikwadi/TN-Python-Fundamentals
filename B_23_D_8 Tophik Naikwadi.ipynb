{
 "cells": [
  {
   "cell_type": "code",
   "execution_count": 1,
   "metadata": {},
   "outputs": [],
   "source": [
    "#  Dictionary continue ....................."
   ]
  },
  {
   "cell_type": "code",
   "execution_count": 2,
   "metadata": {},
   "outputs": [],
   "source": [
    "alien={'color':'green','points':'5','ini':'1','end':'10','win':10}"
   ]
  },
  {
   "cell_type": "code",
   "execution_count": 3,
   "metadata": {},
   "outputs": [],
   "source": [
    "#  To modify or to chage values in dict"
   ]
  },
  {
   "cell_type": "code",
   "execution_count": 4,
   "metadata": {},
   "outputs": [],
   "source": [
    "alien['color']='red'\n",
    "alien['points']='10'\n",
    "alien['ini']='11'"
   ]
  },
  {
   "cell_type": "code",
   "execution_count": 5,
   "metadata": {},
   "outputs": [
    {
     "name": "stdout",
     "output_type": "stream",
     "text": [
      "{'color': 'red', 'points': '10', 'ini': '11', 'end': '10', 'win': 10}\n"
     ]
    }
   ],
   "source": [
    "print(alien)"
   ]
  },
  {
   "cell_type": "code",
   "execution_count": 6,
   "metadata": {},
   "outputs": [],
   "source": [
    "#  Tob delete a key-value pair from the dictionary."
   ]
  },
  {
   "cell_type": "code",
   "execution_count": 7,
   "metadata": {},
   "outputs": [],
   "source": [
    "del alien['end']"
   ]
  },
  {
   "cell_type": "code",
   "execution_count": 8,
   "metadata": {},
   "outputs": [
    {
     "name": "stdout",
     "output_type": "stream",
     "text": [
      "{'color': 'red', 'points': '10', 'ini': '11', 'win': 10}\n"
     ]
    }
   ],
   "source": [
    "print(alien)"
   ]
  },
  {
   "cell_type": "code",
   "execution_count": 9,
   "metadata": {},
   "outputs": [],
   "source": [
    " #  Introduction to looping with dict"
   ]
  },
  {
   "cell_type": "code",
   "execution_count": 10,
   "metadata": {},
   "outputs": [],
   "source": [
    "fav_food={'raj':'rice','ajay':'idly','vijay':'dosa','nilesh':'uthappa','suresh':'biryani','ganesh':'modak','asok':'dosa'}"
   ]
  },
  {
   "cell_type": "code",
   "execution_count": 12,
   "metadata": {},
   "outputs": [],
   "source": [
    " # General syntax  for looping is\n",
    "\n",
    "#   for temp_var in main_var:\n",
    "#       print(tem_var)"
   ]
  },
  {
   "cell_type": "code",
   "execution_count": 13,
   "metadata": {},
   "outputs": [],
   "source": [
    "#  Looping with dict:\n",
    "\n",
    "# syntax\n",
    "# for tempvar1,tempvar2 in mainvar.items():\n",
    "#      print(tempvar1)\n",
    "#      print(tempvar2)"
   ]
  },
  {
   "cell_type": "code",
   "execution_count": 14,
   "metadata": {},
   "outputs": [],
   "source": [
    "# Example:"
   ]
  },
  {
   "cell_type": "code",
   "execution_count": 15,
   "metadata": {},
   "outputs": [
    {
     "name": "stdout",
     "output_type": "stream",
     "text": [
      "Key: raj\n",
      "Value: rice\n",
      "Key: ajay\n",
      "Value: idly\n",
      "Key: vijay\n",
      "Value: dosa\n",
      "Key: nilesh\n",
      "Value: uthappa\n",
      "Key: suresh\n",
      "Value: biryani\n",
      "Key: ganesh\n",
      "Value: modak\n",
      "Key: asok\n",
      "Value: dosa\n"
     ]
    }
   ],
   "source": [
    "for x,y in fav_food.items():\n",
    "    print(f\"Key: {x}\")\n",
    "    print(f\"Value: {y}\")"
   ]
  },
  {
   "cell_type": "code",
   "execution_count": 18,
   "metadata": {},
   "outputs": [
    {
     "name": "stdout",
     "output_type": "stream",
     "text": [
      "\n",
      "Key: raj\n",
      "Value: rice\n",
      "\n",
      "Key: ajay\n",
      "Value: idly\n",
      "\n",
      "Key: vijay\n",
      "Value: dosa\n",
      "\n",
      "Key: nilesh\n",
      "Value: uthappa\n",
      "\n",
      "Key: suresh\n",
      "Value: biryani\n",
      "\n",
      "Key: ganesh\n",
      "Value: modak\n",
      "\n",
      "Key: asok\n",
      "Value: dosa\n"
     ]
    }
   ],
   "source": [
    "for x,y in fav_food.items():\n",
    "    print(f\"\\nKey: {x}\")\n",
    "    print(f\"Value: {y}\")"
   ]
  },
  {
   "cell_type": "code",
   "execution_count": 19,
   "metadata": {},
   "outputs": [
    {
     "name": "stdout",
     "output_type": "stream",
     "text": [
      "\n",
      "Key: Raj\n",
      "Value: rice\n",
      "\n",
      "Key: Ajay\n",
      "Value: idly\n",
      "\n",
      "Key: Vijay\n",
      "Value: dosa\n",
      "\n",
      "Key: Nilesh\n",
      "Value: uthappa\n",
      "\n",
      "Key: Suresh\n",
      "Value: biryani\n",
      "\n",
      "Key: Ganesh\n",
      "Value: modak\n",
      "\n",
      "Key: Asok\n",
      "Value: dosa\n"
     ]
    }
   ],
   "source": [
    "for x,y in fav_food.items():\n",
    "    print(f\"\\nKey: {x.title()}\")\n",
    "    print(f\"Value: {y}\")"
   ]
  },
  {
   "cell_type": "code",
   "execution_count": 20,
   "metadata": {},
   "outputs": [],
   "source": [
    "#  To list out name of persons who have taken the survey  #  i.e. to list out only keys"
   ]
  },
  {
   "cell_type": "code",
   "execution_count": 21,
   "metadata": {},
   "outputs": [
    {
     "name": "stdout",
     "output_type": "stream",
     "text": [
      "\n",
      "Names : Raj\n",
      "\n",
      "Names : Ajay\n",
      "\n",
      "Names : Vijay\n",
      "\n",
      "Names : Nilesh\n",
      "\n",
      "Names : Suresh\n",
      "\n",
      "Names : Ganesh\n",
      "\n",
      "Names : Asok\n"
     ]
    }
   ],
   "source": [
    "for x in fav_food.keys():\n",
    "    print(f\"\\nNames : {x.title()}\")"
   ]
  },
  {
   "cell_type": "code",
   "execution_count": 22,
   "metadata": {},
   "outputs": [
    {
     "name": "stdout",
     "output_type": "stream",
     "text": [
      "\n",
      "Food : RICE\n",
      "\n",
      "Food : IDLY\n",
      "\n",
      "Food : DOSA\n",
      "\n",
      "Food : UTHAPPA\n",
      "\n",
      "Food : BIRYANI\n",
      "\n",
      "Food : MODAK\n",
      "\n",
      "Food : DOSA\n"
     ]
    }
   ],
   "source": [
    "for y in fav_food.values():\n",
    "    print(f\"\\nFood : {y.upper()}\")"
   ]
  },
  {
   "cell_type": "code",
   "execution_count": null,
   "metadata": {},
   "outputs": [],
   "source": []
  },
  {
   "cell_type": "code",
   "execution_count": null,
   "metadata": {},
   "outputs": [],
   "source": []
  }
 ],
 "metadata": {
  "kernelspec": {
   "display_name": "Python 3",
   "language": "python",
   "name": "python3"
  },
  "language_info": {
   "codemirror_mode": {
    "name": "ipython",
    "version": 3
   },
   "file_extension": ".py",
   "mimetype": "text/x-python",
   "name": "python",
   "nbconvert_exporter": "python",
   "pygments_lexer": "ipython3",
   "version": "3.7.6"
  }
 },
 "nbformat": 4,
 "nbformat_minor": 4
}
