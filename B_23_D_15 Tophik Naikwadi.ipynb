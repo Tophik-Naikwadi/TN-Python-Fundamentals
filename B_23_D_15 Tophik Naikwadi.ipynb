{
 "cells": [
  {
   "cell_type": "code",
   "execution_count": 1,
   "metadata": {},
   "outputs": [],
   "source": [
    "# Intro to file handelling in python:"
   ]
  },
  {
   "cell_type": "code",
   "execution_count": 2,
   "metadata": {},
   "outputs": [],
   "source": [
    "#    1. How to read the data inside a file in Python?\n",
    "#    2. How to write the data inside a file in Python?\n",
    "#    3. How to append the data inside a file in Python?"
   ]
  },
  {
   "cell_type": "code",
   "execution_count": 3,
   "metadata": {},
   "outputs": [],
   "source": [
    "#    1. How to read the data inside a file in Python?"
   ]
  },
  {
   "cell_type": "code",
   "execution_count": 4,
   "metadata": {},
   "outputs": [
    {
     "name": "stdout",
     "output_type": "stream",
     "text": [
      "1 4 7\n",
      "2 5 8 \n",
      "3 6 9\n",
      "9 8 7\n",
      "6 5 4\n",
      "3 2 1\n"
     ]
    }
   ],
   "source": [
    "with open('B_23digits.txt') as file1:\n",
    "    see=file1.read()\n",
    "print(see)"
   ]
  },
  {
   "cell_type": "code",
   "execution_count": 5,
   "metadata": {},
   "outputs": [],
   "source": [
    "# Enhancement of code"
   ]
  },
  {
   "cell_type": "code",
   "execution_count": 6,
   "metadata": {},
   "outputs": [],
   "source": [
    "file_obj='B_23digits.txt'"
   ]
  },
  {
   "cell_type": "code",
   "execution_count": 7,
   "metadata": {},
   "outputs": [
    {
     "name": "stdout",
     "output_type": "stream",
     "text": [
      "1 4 7\n",
      "2 5 8 \n",
      "3 6 9\n",
      "9 8 7\n",
      "6 5 4\n",
      "3 2 1\n"
     ]
    }
   ],
   "source": [
    "with open(file_obj) as f:\n",
    "    x=f.read()\n",
    "print(x)"
   ]
  },
  {
   "cell_type": "code",
   "execution_count": null,
   "metadata": {},
   "outputs": [],
   "source": [
    "#    2. How to write the data inside a file in Python?"
   ]
  },
  {
   "cell_type": "code",
   "execution_count": 8,
   "metadata": {},
   "outputs": [],
   "source": [
    "asu='B_23_Blank.txt'"
   ]
  },
  {
   "cell_type": "code",
   "execution_count": 9,
   "metadata": {},
   "outputs": [
    {
     "name": "stdout",
     "output_type": "stream",
     "text": [
      "14\n"
     ]
    }
   ],
   "source": [
    "with open(asu,'w') as f1:\n",
    "    x1=f1.write('I like fishesh')\n",
    "print(x1)"
   ]
  },
  {
   "cell_type": "code",
   "execution_count": 10,
   "metadata": {},
   "outputs": [
    {
     "name": "stdout",
     "output_type": "stream",
     "text": [
      "I like fishesh\n"
     ]
    }
   ],
   "source": [
    "with open(asu) as f2:\n",
    "    x2=f2.read()\n",
    "print(x2)"
   ]
  },
  {
   "cell_type": "code",
   "execution_count": 11,
   "metadata": {},
   "outputs": [],
   "source": [
    "#    3. How to append the data inside a file in Python?"
   ]
  },
  {
   "cell_type": "code",
   "execution_count": 14,
   "metadata": {},
   "outputs": [],
   "source": [
    "with open(asu,'a') as f3:\n",
    "    x3=f3.write('\\nBut that does not mean I love them,\\nI eat them\\nAs I love seefood.')"
   ]
  },
  {
   "cell_type": "code",
   "execution_count": 15,
   "metadata": {},
   "outputs": [
    {
     "name": "stdout",
     "output_type": "stream",
     "text": [
      "I like fishesh\n",
      "But that does not mean I love them,\n",
      "I eat them\\As I love seefood.\n",
      "But that does not mean I love them,\n",
      "I eat them\n",
      "As I love seefood.\n"
     ]
    }
   ],
   "source": [
    "with open(asu) as f4:\n",
    "    x4=f4.read()\n",
    "print(x4)"
   ]
  }
 ],
 "metadata": {
  "kernelspec": {
   "display_name": "Python 3",
   "language": "python",
   "name": "python3"
  },
  "language_info": {
   "codemirror_mode": {
    "name": "ipython",
    "version": 3
   },
   "file_extension": ".py",
   "mimetype": "text/x-python",
   "name": "python",
   "nbconvert_exporter": "python",
   "pygments_lexer": "ipython3",
   "version": "3.7.6"
  }
 },
 "nbformat": 4,
 "nbformat_minor": 4
}
