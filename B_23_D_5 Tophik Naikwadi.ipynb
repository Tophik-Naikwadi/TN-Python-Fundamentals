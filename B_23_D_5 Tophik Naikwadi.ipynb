{
 "cells": [
  {
   "cell_type": "code",
   "execution_count": null,
   "metadata": {},
   "outputs": [],
   "source": [
    "# Introduction to looping statements\n",
    "\n",
    "    # working with for loops :"
   ]
  },
  {
   "cell_type": "code",
   "execution_count": 2,
   "metadata": {},
   "outputs": [],
   "source": [
    "school_teachers= ['Sagar','Kiran','Amol','Naresh','Vishal','Ninad','Rohit','Anand','Pradnya','Swapnali','Namrata','Jyothi','Deepali']"
   ]
  },
  {
   "cell_type": "code",
   "execution_count": 3,
   "metadata": {},
   "outputs": [
    {
     "name": "stdout",
     "output_type": "stream",
     "text": [
      "['Sagar', 'Kiran', 'Amol', 'Naresh', 'Vishal', 'Ninad', 'Rohit', 'Anand', 'Pradnya', 'Swapnali', 'Namrata', 'Jyothi', 'Deepali']\n"
     ]
    }
   ],
   "source": [
    "print(school_teachers)"
   ]
  },
  {
   "cell_type": "code",
   "execution_count": 4,
   "metadata": {},
   "outputs": [],
   "source": [
    "# To send a msg as \"Wish you a very happy Deepawali\" to all teachers."
   ]
  },
  {
   "cell_type": "code",
   "execution_count": 7,
   "metadata": {},
   "outputs": [
    {
     "name": "stdout",
     "output_type": "stream",
     "text": [
      "Wish you a very Happy Deepawali, Vishal\n"
     ]
    }
   ],
   "source": [
    "print(f\"Wish you a very Happy Deepawali, {school_teachers[4]}\")"
   ]
  },
  {
   "cell_type": "code",
   "execution_count": 9,
   "metadata": {},
   "outputs": [
    {
     "name": "stdout",
     "output_type": "stream",
     "text": [
      "Wish you a very Happy Deepawali, Pradnya\n"
     ]
    }
   ],
   "source": [
    "print(f\"Wish you a very Happy Deepawali, {school_teachers[8]}\")"
   ]
  },
  {
   "cell_type": "code",
   "execution_count": 10,
   "metadata": {},
   "outputs": [],
   "source": [
    "# to greet every teacher in one go without multiple inputs:"
   ]
  },
  {
   "cell_type": "code",
   "execution_count": 40,
   "metadata": {},
   "outputs": [
    {
     "name": "stdout",
     "output_type": "stream",
     "text": [
      "Wish you a very Happy Deepawali Sagar Sir\n",
      "Wish you a very Happy Deepawali Kiran Sir\n",
      "Wish you a very Happy Deepawali Amol Sir\n",
      "Wish you a very Happy Deepawali Naresh Sir\n",
      "Wish you a very Happy Deepawali Vishal Sir\n",
      "Wish you a very Happy Deepawali Ninad Sir\n",
      "Wish you a very Happy Deepawali Rohit Sir\n",
      "Wish you a very Happy Deepawali Anand Sir\n",
      "Wish you a very Happy Deepawali Pradnya Sir\n",
      "Wish you a very Happy Deepawali Swapnali Sir\n",
      "Wish you a very Happy Deepawali Namrata Sir\n",
      "Wish you a very Happy Deepawali Jyothi Sir\n",
      "Wish you a very Happy Deepawali Deepali Sir\n"
     ]
    }
   ],
   "source": [
    "for teacher in school_teachers:\n",
    "    print(f\"Wish you a very Happy Deepawali {teacher.title()} Sir\")"
   ]
  },
  {
   "cell_type": "code",
   "execution_count": 13,
   "metadata": {},
   "outputs": [],
   "source": []
  },
  {
   "cell_type": "code",
   "execution_count": 15,
   "metadata": {},
   "outputs": [],
   "source": [
    "# General syntax of a for loop :\n",
    "\n",
    "# for tempvar in mainvar:     # indentation : by default a tab space is there for print command, if not then give it.\n",
    "#    print(tempvar)"
   ]
  },
  {
   "cell_type": "code",
   "execution_count": 16,
   "metadata": {},
   "outputs": [
    {
     "name": "stdout",
     "output_type": "stream",
     "text": [
      "Sagar\n",
      "Kiran\n",
      "Amol\n",
      "Naresh\n",
      "Vishal\n",
      "Ninad\n",
      "Rohit\n",
      "Anand\n",
      "Pradnya\n",
      "Swapnali\n",
      "Namrata\n",
      "Jyothi\n",
      "Deepali\n"
     ]
    }
   ],
   "source": [
    "for x in school_teachers:\n",
    "    print(x.title())"
   ]
  },
  {
   "cell_type": "code",
   "execution_count": 17,
   "metadata": {},
   "outputs": [],
   "source": [
    "# Additional msg to Improvisation of code # To obtain each responce on new line with one line gap."
   ]
  },
  {
   "cell_type": "code",
   "execution_count": 43,
   "metadata": {},
   "outputs": [
    {
     "name": "stdout",
     "output_type": "stream",
     "text": [
      "Wish you a very Happy Deepawali Sagar Sir\n",
      "I am expecting full passing result from your division Sagar Sir \n",
      "\n",
      "Wish you a very Happy Deepawali Kiran Sir\n",
      "I am expecting full passing result from your division Kiran Sir \n",
      "\n",
      "Wish you a very Happy Deepawali Amol Sir\n",
      "I am expecting full passing result from your division Amol Sir \n",
      "\n",
      "Wish you a very Happy Deepawali Naresh Sir\n",
      "I am expecting full passing result from your division Naresh Sir \n",
      "\n",
      "Wish you a very Happy Deepawali Vishal Sir\n",
      "I am expecting full passing result from your division Vishal Sir \n",
      "\n",
      "Wish you a very Happy Deepawali Ninad Sir\n",
      "I am expecting full passing result from your division Ninad Sir \n",
      "\n",
      "Wish you a very Happy Deepawali Rohit Sir\n",
      "I am expecting full passing result from your division Rohit Sir \n",
      "\n",
      "Wish you a very Happy Deepawali Anand Sir\n",
      "I am expecting full passing result from your division Anand Sir \n",
      "\n",
      "Wish you a very Happy Deepawali Pradnya Sir\n",
      "I am expecting full passing result from your division Pradnya Sir \n",
      "\n",
      "Wish you a very Happy Deepawali Swapnali Sir\n",
      "I am expecting full passing result from your division Swapnali Sir \n",
      "\n",
      "Wish you a very Happy Deepawali Namrata Sir\n",
      "I am expecting full passing result from your division Namrata Sir \n",
      "\n",
      "Wish you a very Happy Deepawali Jyothi Sir\n",
      "I am expecting full passing result from your division Jyothi Sir \n",
      "\n",
      "Wish you a very Happy Deepawali Deepali Sir\n",
      "I am expecting full passing result from your division Deepali Sir \n",
      "\n"
     ]
    }
   ],
   "source": [
    "for x in school_teachers:\n",
    "    print(f\"Wish you a very Happy Deepawali {x.title()} Sir\")\n",
    "    print(f\"I am expecting full passing result from your division {x.title()} Sir \\n\")"
   ]
  },
  {
   "cell_type": "code",
   "execution_count": 23,
   "metadata": {},
   "outputs": [],
   "source": [
    "family_members = ['Father','Mother','Son','Soninlaw','Daughter','Daughterinlaw','Grandson','Granddaughter']"
   ]
  },
  {
   "cell_type": "code",
   "execution_count": 26,
   "metadata": {},
   "outputs": [
    {
     "name": "stdout",
     "output_type": "stream",
     "text": [
      "Very Good morning to,FATHER\n",
      "Father,Please wake and get ready for todays picnic of your own life\n",
      "\n",
      "Very Good morning to,MOTHER\n",
      "Mother,Please wake and get ready for todays picnic of your own life\n",
      "\n",
      "Very Good morning to,SON\n",
      "Son,Please wake and get ready for todays picnic of your own life\n",
      "\n",
      "Very Good morning to,SONINLAW\n",
      "Soninlaw,Please wake and get ready for todays picnic of your own life\n",
      "\n",
      "Very Good morning to,DAUGHTER\n",
      "Daughter,Please wake and get ready for todays picnic of your own life\n",
      "\n",
      "Very Good morning to,DAUGHTERINLAW\n",
      "Daughterinlaw,Please wake and get ready for todays picnic of your own life\n",
      "\n",
      "Very Good morning to,GRANDSON\n",
      "Grandson,Please wake and get ready for todays picnic of your own life\n",
      "\n",
      "Very Good morning to,GRANDDAUGHTER\n",
      "Granddaughter,Please wake and get ready for todays picnic of your own life\n",
      "\n"
     ]
    }
   ],
   "source": [
    "for x in family_members:\n",
    "    print(f\"Very Good morning to,{x.upper()}\")\n",
    "    print(f\"{x},Please wake and get ready for todays picnic of your own life\\n\")"
   ]
  },
  {
   "cell_type": "code",
   "execution_count": 52,
   "metadata": {},
   "outputs": [
    {
     "name": "stdout",
     "output_type": "stream",
     "text": [
      "Very Good morning to FATHER\n",
      "Father,Please wake and get ready for todays picnic of your own life\n",
      "\n",
      "Very Good morning to MOTHER\n",
      "Mother,Please wake and get ready for todays picnic of your own life\n",
      "\n",
      "Very Good morning to SON\n",
      "Son,Please wake and get ready for todays picnic of your own life\n",
      "\n",
      "Very Good morning to SONINLAW\n",
      "Soninlaw,Please wake and get ready for todays picnic of your own life\n",
      "\n",
      "Very Good morning to DAUGHTER\n",
      "Daughter,Please wake and get ready for todays picnic of your own life\n",
      "\n",
      "Very Good morning to DAUGHTERINLAW\n",
      "Daughterinlaw,Please wake and get ready for todays picnic of your own life\n",
      "\n",
      "Very Good morning to GRANDSON\n",
      "Grandson,Please wake and get ready for todays picnic of your own life\n",
      "\n",
      "Very Good morning to GRANDDAUGHTER\n",
      "Granddaughter,Please wake and get ready for todays picnic of your own life\n",
      "\n",
      "Thank you all for being a wonderfull part of my life\n"
     ]
    }
   ],
   "source": [
    "for x in family_members:\n",
    "    print(f\"Very Good morning to {x.upper()}\")\n",
    "    print(f\"{x},Please wake and get ready for todays picnic of your own life\\n\")\n",
    "    \n",
    "print('Thank you all for being a wonderfull part of my life')"
   ]
  },
  {
   "cell_type": "code",
   "execution_count": null,
   "metadata": {},
   "outputs": [],
   "source": []
  },
  {
   "cell_type": "code",
   "execution_count": 30,
   "metadata": {},
   "outputs": [],
   "source": [
    "# introduction to zen of python"
   ]
  },
  {
   "cell_type": "code",
   "execution_count": 31,
   "metadata": {},
   "outputs": [
    {
     "name": "stdout",
     "output_type": "stream",
     "text": [
      "The Zen of Python, by Tim Peters\n",
      "\n",
      "Beautiful is better than ugly.\n",
      "Explicit is better than implicit.\n",
      "Simple is better than complex.\n",
      "Complex is better than complicated.\n",
      "Flat is better than nested.\n",
      "Sparse is better than dense.\n",
      "Readability counts.\n",
      "Special cases aren't special enough to break the rules.\n",
      "Although practicality beats purity.\n",
      "Errors should never pass silently.\n",
      "Unless explicitly silenced.\n",
      "In the face of ambiguity, refuse the temptation to guess.\n",
      "There should be one-- and preferably only one --obvious way to do it.\n",
      "Although that way may not be obvious at first unless you're Dutch.\n",
      "Now is better than never.\n",
      "Although never is often better than *right* now.\n",
      "If the implementation is hard to explain, it's a bad idea.\n",
      "If the implementation is easy to explain, it may be a good idea.\n",
      "Namespaces are one honking great idea -- let's do more of those!\n"
     ]
    }
   ],
   "source": [
    "import this"
   ]
  },
  {
   "cell_type": "code",
   "execution_count": 32,
   "metadata": {},
   "outputs": [],
   "source": [
    "# Hi, Faiyaz, I am unable to understand this part that is \"Introduction to zen of python\" and then \"import this\" which\n",
    "#  gives this beautifull poem, is it a part of training, whether to learn it, remember it or what to do with it ?\n",
    "#  Your training is very heplfull to me, hence I have continued the training, so let me know you answer to the question above\n",
    "#  whenever this zen of python is repeated in future lectures.  Thank you"
   ]
  },
  {
   "cell_type": "code",
   "execution_count": null,
   "metadata": {},
   "outputs": [],
   "source": []
  },
  {
   "cell_type": "code",
   "execution_count": null,
   "metadata": {},
   "outputs": [],
   "source": [
    "# Organising the lists:"
   ]
  },
  {
   "cell_type": "code",
   "execution_count": 33,
   "metadata": {},
   "outputs": [
    {
     "name": "stdout",
     "output_type": "stream",
     "text": [
      "['Sagar', 'Kiran', 'Amol', 'Naresh', 'Vishal', 'Ninad', 'Rohit', 'Anand', 'Pradnya', 'Swapnali', 'Namrata', 'Jyothi', 'Deepali']\n"
     ]
    }
   ],
   "source": [
    "print(school_teachers)"
   ]
  },
  {
   "cell_type": "code",
   "execution_count": 34,
   "metadata": {},
   "outputs": [],
   "source": [
    "# To organise the list in alphabetical order"
   ]
  },
  {
   "cell_type": "code",
   "execution_count": null,
   "metadata": {},
   "outputs": [],
   "source": [
    "# Two possible ways\n",
    "\n",
    "1. Temporary way\n",
    "2. Permanent way"
   ]
  },
  {
   "cell_type": "code",
   "execution_count": 47,
   "metadata": {},
   "outputs": [
    {
     "name": "stdout",
     "output_type": "stream",
     "text": [
      "['Amol', 'Anand', 'Deepali', 'Jyothi', 'Kiran', 'Namrata', 'Naresh', 'Ninad', 'Pradnya', 'Rohit', 'Sagar', 'Swapnali', 'Vishal']\n"
     ]
    }
   ],
   "source": [
    "print(sorted(school_teachers))   # sorted  :  organises the list alphabetically, temporarily   # we can retrive the original."
   ]
  },
  {
   "cell_type": "code",
   "execution_count": 48,
   "metadata": {},
   "outputs": [
    {
     "name": "stdout",
     "output_type": "stream",
     "text": [
      "['Sagar', 'Kiran', 'Amol', 'Naresh', 'Vishal', 'Ninad', 'Rohit', 'Anand', 'Pradnya', 'Swapnali', 'Namrata', 'Jyothi', 'Deepali']\n"
     ]
    }
   ],
   "source": [
    "print(school_teachers)    # original retrived."
   ]
  },
  {
   "cell_type": "code",
   "execution_count": null,
   "metadata": {},
   "outputs": [],
   "source": [
    "#  To organise the list permanently in alphabetical order"
   ]
  },
  {
   "cell_type": "code",
   "execution_count": 50,
   "metadata": {},
   "outputs": [],
   "source": [
    "school_teachers.sort()              # .sort()  : permanently organises alphabetically # original cannot be retrived"
   ]
  },
  {
   "cell_type": "code",
   "execution_count": 51,
   "metadata": {},
   "outputs": [
    {
     "name": "stdout",
     "output_type": "stream",
     "text": [
      "['Amol', 'Anand', 'Deepali', 'Jyothi', 'Kiran', 'Namrata', 'Naresh', 'Ninad', 'Pradnya', 'Rohit', 'Sagar', 'Swapnali', 'Vishal']\n"
     ]
    }
   ],
   "source": [
    "print(school_teachers)"
   ]
  },
  {
   "cell_type": "code",
   "execution_count": null,
   "metadata": {},
   "outputs": [],
   "source": []
  },
  {
   "cell_type": "code",
   "execution_count": null,
   "metadata": {},
   "outputs": [],
   "source": [
    "#            sorted  vs  sort    ========> diff\n",
    "\n",
    "#   sorted(mainvar)   temporarily sorts the main_var list\n",
    "\n",
    "#   minvar.sort()     permanently sorts the main_var list"
   ]
  },
  {
   "cell_type": "code",
   "execution_count": null,
   "metadata": {},
   "outputs": [],
   "source": []
  }
 ],
 "metadata": {
  "kernelspec": {
   "display_name": "Python 3",
   "language": "python",
   "name": "python3"
  },
  "language_info": {
   "codemirror_mode": {
    "name": "ipython",
    "version": 3
   },
   "file_extension": ".py",
   "mimetype": "text/x-python",
   "name": "python",
   "nbconvert_exporter": "python",
   "pygments_lexer": "ipython3",
   "version": "3.7.6"
  }
 },
 "nbformat": 4,
 "nbformat_minor": 4
}
