{
 "cells": [
  {
   "cell_type": "code",
   "execution_count": 1,
   "metadata": {},
   "outputs": [],
   "source": [
    "# python classes:"
   ]
  },
  {
   "cell_type": "code",
   "execution_count": null,
   "metadata": {},
   "outputs": [],
   "source": [
    "class: it is a high level blue print of programm composition.\n",
    "\n",
    "method: a function written inside a class is called as method.\n",
    "\n",
    "attribute: a variable written inside as class is called as attribute.\n",
    "\n",
    "self: a temporary place holder for an object inside a class is called as self.\n",
    "\n",
    "object: it is an entry point to the class method."
   ]
  },
  {
   "cell_type": "code",
   "execution_count": null,
   "metadata": {},
   "outputs": [],
   "source": [
    "# Requirement:\n",
    "\n",
    "    create a userclass:\n",
    "        \n",
    "        take 3 methods\n",
    "        \n",
    "        1. createname\n",
    "        2. displayname\n",
    "        3. greetname"
   ]
  },
  {
   "cell_type": "code",
   "execution_count": 2,
   "metadata": {},
   "outputs": [],
   "source": [
    "class Userclass:                                           # always use titlecase to create a class name.\n",
    "    \"\"\"creating a userclass to display and greeting\"\"\"     # docstring\n",
    "    \n",
    "    def createname(self,name):       # method\n",
    "        self.name = name             # attribute\n",
    "\n",
    "    def displayname(self):           # method\n",
    "        print(self.name.title())\n",
    "    \n",
    "    def greetname(self):             # method\n",
    "        print(f\"Hello, {self.name.title()}\\nHow are you today?\")"
   ]
  },
  {
   "cell_type": "code",
   "execution_count": 3,
   "metadata": {},
   "outputs": [],
   "source": [
    "# How to assign an object to an usercalss:"
   ]
  },
  {
   "cell_type": "code",
   "execution_count": 4,
   "metadata": {},
   "outputs": [],
   "source": [
    "tn = Userclass()"
   ]
  },
  {
   "cell_type": "code",
   "execution_count": 5,
   "metadata": {},
   "outputs": [],
   "source": [
    "tn.createname('Rashi')"
   ]
  },
  {
   "cell_type": "code",
   "execution_count": 6,
   "metadata": {},
   "outputs": [
    {
     "name": "stdout",
     "output_type": "stream",
     "text": [
      "Rashi\n"
     ]
    }
   ],
   "source": [
    "tn.displayname()"
   ]
  },
  {
   "cell_type": "code",
   "execution_count": 7,
   "metadata": {},
   "outputs": [
    {
     "name": "stdout",
     "output_type": "stream",
     "text": [
      "Hello, Rashi\n",
      "How are you today?\n"
     ]
    }
   ],
   "source": [
    "tn.greetname()"
   ]
  },
  {
   "cell_type": "code",
   "execution_count": 10,
   "metadata": {},
   "outputs": [],
   "source": [
    "atn = Userclass()"
   ]
  },
  {
   "cell_type": "code",
   "execution_count": 11,
   "metadata": {},
   "outputs": [],
   "source": [
    "atn.createname('aarish')"
   ]
  },
  {
   "cell_type": "code",
   "execution_count": 12,
   "metadata": {},
   "outputs": [
    {
     "name": "stdout",
     "output_type": "stream",
     "text": [
      "Aarish\n"
     ]
    }
   ],
   "source": [
    "atn.displayname()"
   ]
  },
  {
   "cell_type": "code",
   "execution_count": 13,
   "metadata": {},
   "outputs": [
    {
     "name": "stdout",
     "output_type": "stream",
     "text": [
      "Hello, Aarish\n",
      "How are you today?\n"
     ]
    }
   ],
   "source": [
    "atn.greetname()"
   ]
  },
  {
   "cell_type": "code",
   "execution_count": null,
   "metadata": {},
   "outputs": [],
   "source": [
    "# Object oriented programming:"
   ]
  },
  {
   "cell_type": "code",
   "execution_count": 14,
   "metadata": {},
   "outputs": [],
   "source": [
    "# class is just a blue print, it can not run itself, assignng an object to the class makes it to run with respect to the object.\n",
    "#  this is called as object oriented programming."
   ]
  }
 ],
 "metadata": {
  "kernelspec": {
   "display_name": "Python 3",
   "language": "python",
   "name": "python3"
  },
  "language_info": {
   "codemirror_mode": {
    "name": "ipython",
    "version": 3
   },
   "file_extension": ".py",
   "mimetype": "text/x-python",
   "name": "python",
   "nbconvert_exporter": "python",
   "pygments_lexer": "ipython3",
   "version": "3.7.6"
  }
 },
 "nbformat": 4,
 "nbformat_minor": 4
}
